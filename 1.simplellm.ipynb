{
 "cells": [
  {
   "cell_type": "code",
   "id": "initial_id",
   "metadata": {
    "collapsed": true,
    "ExecuteTime": {
     "end_time": "2025-07-13T12:14:14.996416Z",
     "start_time": "2025-07-13T12:14:14.990363Z"
    }
   },
   "source": [
    "from langgraph.graph import StateGraph, START, END\n",
    "from langchain_openai import ChatOpenAI\n",
    "from typing import TypedDict\n",
    "from dotenv import load_dotenv"
   ],
   "outputs": [],
   "execution_count": 12
  },
  {
   "metadata": {
    "ExecuteTime": {
     "end_time": "2025-07-13T12:14:20.549963Z",
     "start_time": "2025-07-13T12:14:20.543392Z"
    }
   },
   "cell_type": "code",
   "source": "load_dotenv()",
   "id": "77cdc7241f744572",
   "outputs": [
    {
     "data": {
      "text/plain": [
       "True"
      ]
     },
     "execution_count": 13,
     "metadata": {},
     "output_type": "execute_result"
    }
   ],
   "execution_count": 13
  },
  {
   "metadata": {
    "ExecuteTime": {
     "end_time": "2025-07-13T12:14:21.055425Z",
     "start_time": "2025-07-13T12:14:21.051649Z"
    }
   },
   "cell_type": "code",
   "source": "model = ChatOpenAI()",
   "id": "79c2e59ebc612506",
   "outputs": [],
   "execution_count": 14
  },
  {
   "metadata": {
    "ExecuteTime": {
     "end_time": "2025-07-13T12:14:21.566314Z",
     "start_time": "2025-07-13T12:14:21.562357Z"
    }
   },
   "cell_type": "code",
   "source": [
    "# create a state\n",
    "\n",
    "class LLMState(TypedDict):\n",
    "    question: str\n",
    "    answer: str"
   ],
   "id": "7b474f822ebf71c3",
   "outputs": [],
   "execution_count": 15
  },
  {
   "metadata": {
    "ExecuteTime": {
     "end_time": "2025-07-13T12:14:22.141625Z",
     "start_time": "2025-07-13T12:14:22.137898Z"
    }
   },
   "cell_type": "code",
   "source": [
    "def llm_qa(state: LLMState) -> LLMState:\n",
    "    # extract question from state\n",
    "    question = state[\"question\"]\n",
    "    # form a prompt\n",
    "    prompt = f\"Answer the following question: {question}\"\n",
    "\n",
    "    #ask that question to LLM\n",
    "    answer = model.invoke(prompt).content\n",
    "\n",
    "    #update the answer to state\n",
    "    state[\"answer\"] = answer\n",
    "    return state"
   ],
   "id": "fc4754ed793beb0d",
   "outputs": [],
   "execution_count": 16
  },
  {
   "metadata": {
    "ExecuteTime": {
     "end_time": "2025-07-13T12:14:22.690420Z",
     "start_time": "2025-07-13T12:14:22.683921Z"
    }
   },
   "cell_type": "code",
   "source": [
    "# create graph\n",
    "graph = StateGraph(LLMState)\n",
    "\n",
    "# add nodes\n",
    "graph.add_node(\"llm_qa\",llm_qa)\n",
    "\n",
    "# add edges\n",
    "graph.add_edge(START,\"llm_qa\")\n",
    "graph.add_edge(\"llm_qa\",END)\n",
    "\n",
    "# compile graph\n",
    "workflow = graph.compile()"
   ],
   "id": "359e4ed94bf7bc3b",
   "outputs": [],
   "execution_count": 17
  },
  {
   "metadata": {
    "ExecuteTime": {
     "end_time": "2025-07-13T12:14:25.416021Z",
     "start_time": "2025-07-13T12:14:23.214310Z"
    }
   },
   "cell_type": "code",
   "source": [
    "initial_state = {\"question\": \"What is the planet vulcan?\"}\n",
    "\n",
    "final_state = workflow.invoke(initial_state)\n",
    "\n",
    "print(final_state[\"answer\"])"
   ],
   "id": "afcb6d01370a7f36",
   "outputs": [
    {
     "name": "stdout",
     "output_type": "stream",
     "text": [
      "The planet Vulcan is a fictional planet within the Star Trek universe. It is the home planet of the logical and emotional beings known as Vulcans, including the famous character Spock.\n"
     ]
    }
   ],
   "execution_count": 18
  },
  {
   "metadata": {
    "ExecuteTime": {
     "end_time": "2025-07-13T12:14:25.432708Z",
     "start_time": "2025-07-13T12:14:25.430859Z"
    }
   },
   "cell_type": "code",
   "source": "",
   "id": "3c86592c38ada452",
   "outputs": [],
   "execution_count": null
  },
  {
   "metadata": {},
   "cell_type": "code",
   "outputs": [],
   "execution_count": null,
   "source": "",
   "id": "251b5b5724e030f8"
  }
 ],
 "metadata": {
  "kernelspec": {
   "display_name": "Python 3",
   "language": "python",
   "name": "python3"
  },
  "language_info": {
   "codemirror_mode": {
    "name": "ipython",
    "version": 2
   },
   "file_extension": ".py",
   "mimetype": "text/x-python",
   "name": "python",
   "nbconvert_exporter": "python",
   "pygments_lexer": "ipython2",
   "version": "2.7.6"
  }
 },
 "nbformat": 4,
 "nbformat_minor": 5
}
