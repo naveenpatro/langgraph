{
 "cells": [
  {
   "metadata": {
    "ExecuteTime": {
     "end_time": "2025-07-13T00:43:42.409596Z",
     "start_time": "2025-07-13T00:43:36.669613Z"
    }
   },
   "cell_type": "code",
   "source": [
    "import os\n",
    "from dotenv import load_dotenv\n",
    "from langchain_openai import ChatOpenAI\n",
    "\n",
    "# Load environment variables from .env file\n",
    "load_dotenv()\n",
    "\n",
    "# Create the ChatOpenAI model (will automatically use OPENAI_API_KEY from environment)\n",
    "model = ChatOpenAI()\n",
    "\n",
    "# --- Step 1: Summarize Text ---\n",
    "original_text = \"Large language models are powerful AI systems trained on vast amounts of text data. They can generate human-like text, translate languages, write different kinds of creative content, and answer your questions in an informative way.\"\n",
    "prompt1 = f\"Summarize the following text in one sentence: {original_text}\"\n",
    "\n",
    "# Generate content using LangChain's ChatOpenAI\n",
    "response1 = model.invoke(prompt1)\n",
    "summary = response1.content.strip()\n",
    "print(f\"Summary: {summary}\")\n",
    "\n",
    "# --- Step 2: Translate the Summary ---\n",
    "prompt2 = f\"Translate the following summary into French, only return the translation, no other text: {summary}\"\n",
    "\n",
    "# Generate content using LangChain's ChatOpenAI\n",
    "response2 = model.invoke(prompt2)\n",
    "translation = response2.content.strip()\n",
    "print(f\"Translation: {translation}\")"
   ],
   "id": "1b0eedae61c09e72",
   "outputs": [
    {
     "name": "stdout",
     "output_type": "stream",
     "text": [
      "Summary: Large language models are advanced AI systems trained on extensive text data that can generate human-like text, translate languages, write creative content, and provide informative answers to questions.\n",
      "Translation: Les grands modèles linguistiques sont des systèmes avancés d'intelligence artificielle entraînés sur des données textuelles étendues qui peuvent générer un texte semblable à celui d'un humain, traduire des langues, rédiger du contenu créatif et fournir des réponses informatives aux questions.\n"
     ]
    }
   ],
   "execution_count": 6
  },
  {
   "metadata": {
    "ExecuteTime": {
     "end_time": "2025-07-13T01:00:32.633493Z",
     "start_time": "2025-07-13T01:00:32.589496Z"
    }
   },
   "cell_type": "code",
   "source": [
    "import os\n",
    "from dotenv import load_dotenv\n",
    "from langchain_openai import ChatOpenAI\n",
    "from langgraph.graph import StateGraph, START, END\n",
    "from typing import TypedDict"
   ],
   "id": "4ed0b3ce38fe92d7",
   "outputs": [],
   "execution_count": 7
  },
  {
   "metadata": {
    "ExecuteTime": {
     "end_time": "2025-07-13T01:01:20.292948Z",
     "start_time": "2025-07-13T01:01:20.289353Z"
    }
   },
   "cell_type": "code",
   "source": [
    "class LLMState(TypedDict):\n",
    "    original_text : str\n",
    "    summary : str\n",
    "    translation : str"
   ],
   "id": "17c88344cc34c3c5",
   "outputs": [],
   "execution_count": 9
  },
  {
   "metadata": {
    "ExecuteTime": {
     "end_time": "2025-07-13T02:46:20.371457Z",
     "start_time": "2025-07-13T02:46:20.365569Z"
    }
   },
   "cell_type": "code",
   "source": [
    "def summarize(state: LLMState) -> LLMState:\n",
    "    original_text = state[\"original_text\"]\n",
    "\n",
    "    prompt1 = f\"Summarize the following text in one sentence: {original_text}\"\n",
    "\n",
    "    summary = model.invoke(prompt1)\n",
    "\n",
    "    state[\"summary\"] = summary\n",
    "\n",
    "    return state"
   ],
   "id": "27a27490cac48eff",
   "outputs": [],
   "execution_count": 17
  },
  {
   "metadata": {
    "ExecuteTime": {
     "end_time": "2025-07-13T02:46:21.546511Z",
     "start_time": "2025-07-13T02:46:21.542670Z"
    }
   },
   "cell_type": "code",
   "source": [
    "def translate(state: LLMState) -> LLMState:\n",
    "    summary = state[\"summary\"]\n",
    "\n",
    "    prompt2 = f\"Translate the following text into French, only return the translation, no other text: {summary}\"\n",
    "    translation = model.invoke(prompt2)\n",
    "    state[\"translation\"] = translation\n",
    "    return state"
   ],
   "id": "a01bae40db43b979",
   "outputs": [],
   "execution_count": 18
  },
  {
   "metadata": {
    "ExecuteTime": {
     "end_time": "2025-07-13T02:46:22.492839Z",
     "start_time": "2025-07-13T02:46:22.483927Z"
    }
   },
   "cell_type": "code",
   "source": [
    "#create graph\n",
    "\n",
    "graph = StateGraph(LLMState)\n",
    "\n",
    "# add nodes\n",
    "graph.add_node(\"summarize\", summarize)\n",
    "graph.add_node(\"translate\", translate)\n",
    "\n",
    "# add edges\n",
    "graph.add_edge(START, \"summarize\")\n",
    "graph.add_edge(\"summarize\", \"translate\")\n",
    "graph.add_edge(\"translate\", END)\n",
    "\n",
    "# compile graph\n",
    "workflow = graph.compile()"
   ],
   "id": "686dcbeaa94e6adc",
   "outputs": [],
   "execution_count": 19
  },
  {
   "metadata": {
    "ExecuteTime": {
     "end_time": "2025-07-13T02:49:26.354328Z",
     "start_time": "2025-07-13T02:49:26.350250Z"
    }
   },
   "cell_type": "code",
   "source": "original_text = \"Large language models are powerful AI systems trained on vast amounts of text data. They can generate human-like text, translate languages, write different kinds of creative content, and answer your questions in an informative way.\"",
   "id": "15a3bbd80a969c93",
   "outputs": [],
   "execution_count": 21
  },
  {
   "metadata": {
    "ExecuteTime": {
     "end_time": "2025-07-13T02:50:52.729303Z",
     "start_time": "2025-07-13T02:50:49.973957Z"
    }
   },
   "cell_type": "code",
   "source": [
    "#execute the graph\n",
    "initial_state = {\"original_text\": original_text}\n",
    "\n",
    "final_state = workflow.invoke(initial_state)\n",
    "\n",
    "print (final_state[\"summary\"].content)\n",
    "print (final_state[\"translation\"].content)"
   ],
   "id": "eec652c281c7ee3",
   "outputs": [
    {
     "name": "stdout",
     "output_type": "stream",
     "text": [
      "Large language models are AI systems trained on extensive text data that can generate human-like text, translate languages, write creative content, and provide informative answers to questions.\n",
      "Les grands modèles de langage sont des systèmes d'IA formés sur de vastes données textuelles qui peuvent générer un texte semblable à celui des humains, traduire des langues, rédiger du contenu créatif et fournir des réponses informatives aux questions.\n"
     ]
    }
   ],
   "execution_count": 26
  },
  {
   "metadata": {
    "ExecuteTime": {
     "end_time": "2025-07-13T02:52:56.991947Z",
     "start_time": "2025-07-13T02:52:56.505121Z"
    }
   },
   "cell_type": "code",
   "source": [
    "from IPython.display import display, Image\n",
    "Image(workflow.get_graph().draw_mermaid_png())"
   ],
   "id": "20b5a8f4c62b596e",
   "outputs": [
    {
     "data": {
      "image/png": "[encoded data removed]",
      "text/plain": [
       "<IPython.core.display.Image object>"
      ]
     },
     "execution_count": 31,
     "metadata": {},
     "output_type": "execute_result"
    }
   ],
   "execution_count": 31
  },
  {
   "metadata": {},
   "cell_type": "code",
   "outputs": [],
   "execution_count": null,
   "source": "",
   "id": "f227954821129ef5"
  }
 ],
 "metadata": {
  "kernelspec": {
   "display_name": "Python 3",
   "language": "python",
   "name": "python3"
  },
  "language_info": {
   "codemirror_mode": {
    "name": "ipython",
    "version": 2
   },
   "file_extension": ".py",
   "mimetype": "text/x-python",
   "name": "python",
   "nbconvert_exporter": "python",
   "pygments_lexer": "ipython2",
   "version": "2.7.6"
  }
 },
 "nbformat": 4,
 "nbformat_minor": 5
}
