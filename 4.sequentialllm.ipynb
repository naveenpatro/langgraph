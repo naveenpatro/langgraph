{
 "cells": [
  {
   "metadata": {
    "ExecuteTime": {
     "end_time": "2025-07-12T10:40:32.552160Z",
     "start_time": "2025-07-12T10:40:32.548674Z"
    }
   },
   "cell_type": "code",
   "source": [
    "from langgraph.graph import StateGraph, START, END\n",
    "from langchain_openai import ChatOpenAI\n",
    "from dotenv import load_dotenv\n",
    "from typing import TypedDict"
   ],
   "id": "ee1d94c87fd2b954",
   "outputs": [],
   "execution_count": 13
  },
  {
   "metadata": {
    "ExecuteTime": {
     "end_time": "2025-07-12T10:40:34.439323Z",
     "start_time": "2025-07-12T10:40:34.432620Z"
    }
   },
   "cell_type": "code",
   "source": "load_dotenv()",
   "id": "d98cc1d628a8d398",
   "outputs": [
    {
     "data": {
      "text/plain": [
       "True"
      ]
     },
     "execution_count": 14,
     "metadata": {},
     "output_type": "execute_result"
    }
   ],
   "execution_count": 14
  },
  {
   "metadata": {
    "ExecuteTime": {
     "end_time": "2025-07-12T10:41:39.881421Z",
     "start_time": "2025-07-12T10:41:39.877310Z"
    }
   },
   "cell_type": "code",
   "source": "model = ChatOpenAI()",
   "id": "fe7e1eedeb1803ca",
   "outputs": [],
   "execution_count": 23
  },
  {
   "metadata": {
    "ExecuteTime": {
     "end_time": "2025-07-12T10:40:35.558728Z",
     "start_time": "2025-07-12T10:40:35.555276Z"
    }
   },
   "cell_type": "code",
   "source": [
    "# create state\n",
    "\n",
    "class SequenceLLMState(TypedDict):\n",
    "    original_text: str\n",
    "    outline: str\n",
    "    detailed_report: str\n",
    "    summary: str"
   ],
   "id": "c5cbf7e9e8717d04",
   "outputs": [],
   "execution_count": 16
  },
  {
   "metadata": {
    "ExecuteTime": {
     "end_time": "2025-07-12T10:40:36.263482Z",
     "start_time": "2025-07-12T10:40:36.259734Z"
    }
   },
   "cell_type": "code",
   "source": [
    "def generate_outline(state: SequenceLLMState) -> SequenceLLMState:\n",
    "    original_text = state[\"original_text\"]\n",
    "\n",
    "    prompt = f\"Generate an outline for {original_text}\"\n",
    "\n",
    "    outline = model.invoke(prompt).content\n",
    "\n",
    "    state[\"outline\"] = outline\n",
    "\n",
    "    return state"
   ],
   "id": "a38544e23afab5f",
   "outputs": [],
   "execution_count": 17
  },
  {
   "metadata": {
    "ExecuteTime": {
     "end_time": "2025-07-12T10:40:37.581036Z",
     "start_time": "2025-07-12T10:40:37.578942Z"
    }
   },
   "cell_type": "code",
   "source": [
    "def generate_detailed_report(state: SequenceLLMState) -> SequenceLLMState:\n",
    "    original_text = state[\"original_text\"]\n",
    "    outline = state[\"outline\"]\n",
    "\n",
    "    prompt = f\"Generate a detailed report for {original_text} as per the outline {outline}\"\n",
    "    detailed_report = model.invoke(prompt).content\n",
    "    state[\"detailed_report\"] = detailed_report\n",
    "    return state"
   ],
   "id": "4e909b1fb9cb43bd",
   "outputs": [],
   "execution_count": 18
  },
  {
   "metadata": {
    "ExecuteTime": {
     "end_time": "2025-07-12T10:40:38.436152Z",
     "start_time": "2025-07-12T10:40:38.432456Z"
    }
   },
   "cell_type": "code",
   "source": [
    "def generate_summary(state: SequenceLLMState) -> SequenceLLMState:\n",
    "    detailed_report = state[\"detailed_report\"]\n",
    "\n",
    "    prompt = f\"Generate a summary for {detailed_report}\"\n",
    "    summary = model.invoke(prompt).content\n",
    "    state[\"summary\"] = summary\n",
    "    return state"
   ],
   "id": "287418c1c55d336b",
   "outputs": [],
   "execution_count": 19
  },
  {
   "metadata": {
    "ExecuteTime": {
     "end_time": "2025-07-12T10:40:39.995828Z",
     "start_time": "2025-07-12T10:40:39.990294Z"
    }
   },
   "cell_type": "code",
   "source": [
    "# create a graph\n",
    "graph = StateGraph(SequenceLLMState)\n",
    "\n",
    "# add nodes\n",
    "graph.add_node('generate_outline',generate_outline)\n",
    "graph.add_node('generate_detailed_report',generate_detailed_report)\n",
    "graph.add_node('generate_summary',generate_summary)\n",
    "\n",
    "# add edges\n",
    "graph.add_edge(START, 'generate_outline')\n",
    "graph.add_edge('generate_outline',\"generate_detailed_report\")\n",
    "graph.add_edge('generate_detailed_report',\"generate_summary\")\n",
    "graph.add_edge('generate_summary',END)\n",
    "\n",
    "# compile graph\n",
    "workflow = graph.compile()"
   ],
   "id": "d10b6c691b549b7b",
   "outputs": [],
   "execution_count": 20
  },
  {
   "metadata": {
    "ExecuteTime": {
     "end_time": "2025-07-12T10:40:41.856969Z",
     "start_time": "2025-07-12T10:40:41.851340Z"
    }
   },
   "cell_type": "code",
   "source": [
    "original_text = \"\"\"The Importance of Reading\n",
    "\n",
    "Reading is one of the most powerful tools available to human beings. It is more than just a skill; it is a gateway to knowledge, imagination, self-improvement, and connection with the world. From early childhood to old age, reading plays a crucial role in shaping our thoughts, enhancing our language, and broadening our understanding of the world.\n",
    "\n",
    "One of the most obvious benefits of reading is the acquisition of knowledge. Books, articles, and journals provide access to information about a wide variety of subjects, from history and science to art and philosophy. A well-read person can draw upon this knowledge to think critically, make informed decisions, and engage in meaningful conversations. In today’s world, where misinformation can spread rapidly, reading from reliable sources helps individuals become more discerning and better equipped to understand complex issues.\n",
    "\n",
    "Reading also enhances cognitive abilities. It improves vocabulary, grammar, and writing skills by exposing readers to well-structured language and diverse styles. It strengthens memory and concentration, as following a story or argument requires focus and attention to detail. Studies have shown that regular reading can help prevent cognitive decline with age and may even delay the onset of diseases like Alzheimer’s.\n",
    "\n",
    "In addition to intellectual growth, reading stimulates the imagination and nurtures creativity. Fiction, in particular, transports readers to different worlds, times, and cultures. It allows them to experience the lives of others, leading to greater empathy and emotional intelligence. By stepping into a character’s shoes, readers understand emotions, struggles, and perspectives they may never encounter in real life. This emotional connection can promote kindness, tolerance, and deeper human relationships.\n",
    "\n",
    "Reading is also a powerful stress-reliever. Immersing oneself in a good book provides a break from the worries and noise of daily life. It offers a safe space to reflect, relax, and reset. For many, reading is not just a pastime but a therapeutic activity that promotes mental well-being. Whether it's a thrilling mystery, a heartwarming novel, or an inspiring biography, reading offers an escape that is both enriching and restorative.\n",
    "\n",
    "Moreover, reading plays a key role in personal development. Self-help books, motivational literature, and spiritual texts guide individuals on the path of self-discovery and personal growth. They help readers set goals, develop discipline, overcome challenges, and build resilience. Reading about the experiences of others, especially those who have faced and conquered adversity, can inspire confidence and hope.\n",
    "\n",
    "In education, reading is the foundation for learning across all subjects. Students who read regularly perform better academically because they comprehend instructions better, retain information more effectively, and write with greater clarity. Encouraging reading habits from an early age helps children develop a lifelong love for learning.\n",
    "\n",
    "In conclusion, reading is not just an academic necessity or a form of entertainment—it is an essential life skill that contributes to intellectual, emotional, and social development. In a fast-paced world dominated by screens and distractions, taking time to read is an investment in one’s own growth and well-being. Cultivating a reading habit can truly transform lives. \"\"\""
   ],
   "id": "ebf93bc4cec23e3c",
   "outputs": [],
   "execution_count": 21
  },
  {
   "metadata": {
    "ExecuteTime": {
     "end_time": "2025-07-12T10:41:55.576797Z",
     "start_time": "2025-07-12T10:41:45.704198Z"
    }
   },
   "cell_type": "code",
   "source": [
    "initial_state = {\"original_text\": original_text}\n",
    "\n",
    "final_state = workflow.invoke(initial_state)\n",
    "\n",
    "print (final_state[\"outline\"])\n",
    "print (final_state[\"summary\"])"
   ],
   "id": "2f6149900c1ed7b1",
   "outputs": [
    {
     "name": "stdout",
     "output_type": "stream",
     "text": [
      "I. Introduction\n",
      "    A. Definition of reading\n",
      "    B. Importance of reading in today’s society\n",
      "    C. Thesis statement: Reading is a powerful tool that enhances knowledge, cognitive abilities, creativity, stress-relief, personal development, and education.\n",
      "\n",
      "II. Acquisition of knowledge\n",
      "    A. Access to information from various sources\n",
      "    B. Critical thinking and decision-making\n",
      "    C. Importance of reading from reliable sources\n",
      "\n",
      "III. Cognitive abilities\n",
      "    A. Improvement in vocabulary, grammar, and writing skills\n",
      "    B. Enhancement of memory and concentration\n",
      "    C. Prevention of cognitive decline with age\n",
      "\n",
      "IV. Imagination and creativity\n",
      "    A. Exploration of different worlds, times, and cultures through fiction\n",
      "    B. Development of empathy and emotional intelligence\n",
      "    C. Promotion of kindness, tolerance, and human relationships\n",
      "\n",
      "V. Stress-relief and mental well-being\n",
      "    A. Escape from daily worries and noise\n",
      "    B. Therapeutic benefits of reading\n",
      "    C. Enriching and restorative effects of reading\n",
      "\n",
      "VI. Personal development\n",
      "    A. Guidance on self-discovery and growth through self-help books\n",
      "    B. Inspiration from the experiences of others\n",
      "    C. Building resilience and confidence through reading\n",
      "\n",
      "VII. Education\n",
      "    A. Foundation for learning across all subjects\n",
      "    B. Academic benefits of reading regularly\n",
      "    C. Importance of cultivating a love for reading from an early age\n",
      "\n",
      "VIII. Conclusion\n",
      "    A. Recap of the importance of reading in intellectual, emotional, and social development\n",
      "    B. Encouragement to cultivate a reading habit for personal growth and well-being.\n",
      "In summary, reading is a crucial skill that has numerous positive impacts on various aspects of life. It helps individuals acquire knowledge, improve cognitive abilities, stimulate creativity, reduce stress, promote personal growth, and excel in education. In today's fast-paced world, where distractions and misinformation abound, reading serves as a valuable tool for self-improvement and connection with the world. Developing a habit of reading early on is vital for continuous learning and personal development. The benefits of reading go beyond just gaining information; it is a transformative practice that enriches lives and fosters understanding of oneself and others. Ultimately, reading is a path to enlightenment, empathy, and fulfillment that should be embraced and prioritized by all.\n"
     ]
    }
   ],
   "execution_count": 24
  },
  {
   "metadata": {
    "ExecuteTime": {
     "end_time": "2025-07-12T10:43:42.792763Z",
     "start_time": "2025-07-12T10:43:41.639816Z"
    }
   },
   "cell_type": "code",
   "source": [
    "from IPython.display import display, Image\n",
    "Image(workflow.get_graph().draw_mermaid_png())"
   ],
   "id": "7da5e117a0968b8f",
   "outputs": [
    {
     "data": {
      "image/png": "[encoded data removed]",
      "text/plain": [
       "<IPython.core.display.Image object>"
      ]
     },
     "execution_count": 25,
     "metadata": {},
     "output_type": "execute_result"
    }
   ],
   "execution_count": 25
  },
  {
   "metadata": {},
   "cell_type": "code",
   "outputs": [],
   "execution_count": null,
   "source": "",
   "id": "79ffa473cf2d475d"
  }
 ],
 "metadata": {
  "kernelspec": {
   "display_name": "Python 3",
   "language": "python",
   "name": "python3"
  },
  "language_info": {
   "codemirror_mode": {
    "name": "ipython",
    "version": 2
   },
   "file_extension": ".py",
   "mimetype": "text/x-python",
   "name": "python",
   "nbconvert_exporter": "python",
   "pygments_lexer": "ipython2",
   "version": "2.7.6"
  }
 },
 "nbformat": 4,
 "nbformat_minor": 5
}
