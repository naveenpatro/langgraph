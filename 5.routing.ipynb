{
 "cells": [
  {
   "cell_type": "code",
   "id": "initial_id",
   "metadata": {
    "collapsed": true,
    "ExecuteTime": {
     "end_time": "2025-07-13T06:22:10.708479Z",
     "start_time": "2025-07-13T06:22:10.704104Z"
    }
   },
   "source": [
    "import os\n",
    "import requests\n",
    "from dotenv import load_dotenv\n",
    "from langchain_openai import ChatOpenAI\n",
    "from langgraph.graph import StateGraph, START, END\n",
    "from typing import TypedDict"
   ],
   "outputs": [],
   "execution_count": 77
  },
  {
   "metadata": {
    "ExecuteTime": {
     "end_time": "2025-07-13T06:22:11.100855Z",
     "start_time": "2025-07-13T06:22:11.094712Z"
    }
   },
   "cell_type": "code",
   "source": "load_dotenv()",
   "id": "e9e6ed72c02a492c",
   "outputs": [
    {
     "data": {
      "text/plain": [
       "True"
      ]
     },
     "execution_count": 78,
     "metadata": {},
     "output_type": "execute_result"
    }
   ],
   "execution_count": 78
  },
  {
   "metadata": {
    "ExecuteTime": {
     "end_time": "2025-07-13T06:22:11.437654Z",
     "start_time": "2025-07-13T06:22:11.433031Z"
    }
   },
   "cell_type": "code",
   "source": "model = ChatOpenAI()",
   "id": "d459daa64e414e01",
   "outputs": [],
   "execution_count": 79
  },
  {
   "metadata": {
    "ExecuteTime": {
     "end_time": "2025-07-13T06:22:11.774870Z",
     "start_time": "2025-07-13T06:22:11.771212Z"
    }
   },
   "cell_type": "code",
   "source": [
    "class LLMState(TypedDict):\n",
    "    category : str\n",
    "    query : str\n",
    "    response : str\n",
    "    location: str\n",
    "    weather: str"
   ],
   "id": "dee1f9cba31ef68a",
   "outputs": [],
   "execution_count": 80
  },
  {
   "metadata": {
    "ExecuteTime": {
     "end_time": "2025-07-13T06:22:12.207583Z",
     "start_time": "2025-07-13T06:22:12.203731Z"
    }
   },
   "cell_type": "code",
   "source": [
    "def routeragent(state: LLMState) -> LLMState:\n",
    "    query = state[\"query\"]\n",
    "    prompt = f\"Classify the following question into either Science, Weather or General \\n {query}\"\n",
    "\n",
    "    category = model.invoke(prompt).content\n",
    "\n",
    "    state[\"category\"] = category\n",
    "    return state"
   ],
   "id": "c6196f372022ebf4",
   "outputs": [],
   "execution_count": 81
  },
  {
   "metadata": {
    "ExecuteTime": {
     "end_time": "2025-07-13T06:22:12.733285Z",
     "start_time": "2025-07-13T06:22:12.729372Z"
    }
   },
   "cell_type": "code",
   "source": [
    "def science_query(state: LLMState) -> LLMState:\n",
    "    query = state[\"query\"]\n",
    "    if state[\"category\"] == \"Science\":\n",
    "        prompt = f\"Answer the following question. {query}\"\n",
    "        response = model.invoke(prompt).content\n",
    "        state[\"response\"] = response\n",
    "        return state"
   ],
   "id": "29f32c089ca2cb39",
   "outputs": [],
   "execution_count": 82
  },
  {
   "metadata": {
    "ExecuteTime": {
     "end_time": "2025-07-13T06:22:13.337295Z",
     "start_time": "2025-07-13T06:22:13.332603Z"
    }
   },
   "cell_type": "code",
   "source": [
    "def weather_query(state: LLMState) -> LLMState:\n",
    "    query = state[\"query\"]\n",
    "    if state[\"category\"] == \"Weather\":\n",
    "\n",
    "        prompt1 = f\"Which location is this query for {query}?\"\n",
    "        location = model.invoke(prompt1).content\n",
    "        state[\"location\"] = location\n",
    "\n",
    "        weather_details = get_weather_details(location)\n",
    "\n",
    "        prompt2 = f\"Answer the following question. {query} with {weather_details}\"\n",
    "        response = model.invoke(prompt2).content\n",
    "\n",
    "        state[\"response\"] = response\n",
    "        return state"
   ],
   "id": "58c752b9a8f844a0",
   "outputs": [],
   "execution_count": 83
  },
  {
   "metadata": {
    "ExecuteTime": {
     "end_time": "2025-07-13T06:22:14.090817Z",
     "start_time": "2025-07-13T06:22:14.087237Z"
    }
   },
   "cell_type": "code",
   "source": [
    "def get_weather_details(location:str):\n",
    "    API_KEY = \"\"\n",
    "\n",
    "    response = requests.get(f\"http://api.weatherapi.com/v1/current.json?key={API_KEY}&q={location}\")\n",
    "    data = response.json()\n",
    "\n",
    "    return data"
   ],
   "id": "b25386d79ac9ea63",
   "outputs": [],
   "execution_count": 84
  },
  {
   "metadata": {
    "ExecuteTime": {
     "end_time": "2025-07-13T11:48:25.260829Z",
     "start_time": "2025-07-13T11:48:25.256487Z"
    }
   },
   "cell_type": "code",
   "source": [
    "def general_query(state: LLMState) -> LLMState:\n",
    "    query = state[\"query\"]\n",
    "    if state[\"category\"] == \"General\":\n",
    "        prompt = f\"Answer the following question. {query}\"\n",
    "        response = model.invoke(prompt).content\n",
    "        state[\"response\"] = response\n",
    "        state[\"location\"] = \"\"\n",
    "        return state"
   ],
   "id": "41b87e9f3f3444d3",
   "outputs": [],
   "execution_count": 94
  },
  {
   "metadata": {
    "ExecuteTime": {
     "end_time": "2025-07-13T11:48:27.293790Z",
     "start_time": "2025-07-13T11:48:27.286084Z"
    }
   },
   "cell_type": "code",
   "source": [
    "# create a state\n",
    "graph = StateGraph(LLMState)\n",
    "\n",
    "graph.add_node(\"routeragent\", routeragent)\n",
    "graph.add_node(\"science_query\", science_query)\n",
    "graph.add_node(\"weather_query\", weather_query)\n",
    "graph.add_node(\"general_query\", general_query)\n",
    "\n",
    "graph.add_edge(START, \"routeragent\")\n",
    "graph.add_edge(\"routeragent\", \"science_query\")\n",
    "graph.add_edge(\"routeragent\", \"weather_query\")\n",
    "graph.add_edge(\"routeragent\", \"general_query\")\n",
    "graph.add_edge(\"science_query\", END)\n",
    "graph.add_edge(\"weather_query\", END)\n",
    "graph.add_edge(\"general_query\", END)\n",
    "\n",
    "workflow = graph.compile()"
   ],
   "id": "6179cb4788890cba",
   "outputs": [],
   "execution_count": 95
  },
  {
   "metadata": {
    "ExecuteTime": {
     "end_time": "2025-07-13T11:47:44.103772Z",
     "start_time": "2025-07-13T11:47:44.095410Z"
    }
   },
   "cell_type": "code",
   "source": "query = \"Who is the father of the nation of India?\"",
   "id": "55fee7b95af4d83e",
   "outputs": [],
   "execution_count": 92
  },
  {
   "metadata": {
    "ExecuteTime": {
     "end_time": "2025-07-13T11:48:32.798078Z",
     "start_time": "2025-07-13T11:48:30.372784Z"
    }
   },
   "cell_type": "code",
   "source": [
    "initial_state = {\"query\": query}\n",
    "\n",
    "final_state = workflow.invoke(initial_state)\n",
    "\n",
    "print (f\"location: {final_state['location']}\")\n",
    "print(f\"Category: {final_state['category']}\")\n",
    "print(f\"Question: {final_state['query']}\")\n",
    "print(f\"Answer: {final_state['response']}\")"
   ],
   "id": "575f413a334bf9b3",
   "outputs": [
    {
     "name": "stdout",
     "output_type": "stream",
     "text": [
      "location: \n",
      "Category: General\n",
      "Question: Who is the father of the nation of India?\n",
      "Answer: Mahatma Gandhi is often referred to as the \"Father of the Nation\" in India.\n"
     ]
    }
   ],
   "execution_count": 96
  },
  {
   "metadata": {
    "ExecuteTime": {
     "end_time": "2025-07-13T06:22:51.035258Z",
     "start_time": "2025-07-13T06:22:50.495304Z"
    }
   },
   "cell_type": "code",
   "source": [
    "from IPython.display import display, Image\n",
    "Image(workflow.get_graph().draw_mermaid_png())"
   ],
   "id": "fe420c1b79d1562c",
   "outputs": [
    {
     "data": {
      "image/png": "[encoded data removed]",
      "text/plain": [
       "<IPython.core.display.Image object>"
      ]
     },
     "execution_count": 89,
     "metadata": {},
     "output_type": "execute_result"
    }
   ],
   "execution_count": 89
  },
  {
   "metadata": {},
   "cell_type": "code",
   "outputs": [],
   "execution_count": null,
   "source": "",
   "id": "5b93ebf7c6cb1885"
  }
 ],
 "metadata": {
  "kernelspec": {
   "display_name": "Python 3",
   "language": "python",
   "name": "python3"
  },
  "language_info": {
   "codemirror_mode": {
    "name": "ipython",
    "version": 2
   },
   "file_extension": ".py",
   "mimetype": "text/x-python",
   "name": "python",
   "nbconvert_exporter": "python",
   "pygments_lexer": "ipython2",
   "version": "2.7.6"
  }
 },
 "nbformat": 4,
 "nbformat_minor": 5
}
