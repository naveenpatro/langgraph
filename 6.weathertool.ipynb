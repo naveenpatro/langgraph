{
 "cells": [
  {
   "cell_type": "code",
   "id": "initial_id",
   "metadata": {
    "collapsed": true,
    "ExecuteTime": {
     "end_time": "2025-07-13T13:46:22.919996Z",
     "start_time": "2025-07-13T13:46:22.916033Z"
    }
   },
   "source": [
    "from langchain_openai import ChatOpenAI\n",
    "from langgraph.prebuilt import ToolNode\n",
    "from langgraph.graph import StateGraph, START, END, MessagesState\n",
    "from dotenv import load_dotenv\n",
    "from langchain_core.tools import tool\n",
    "import requests"
   ],
   "outputs": [],
   "execution_count": 74
  },
  {
   "metadata": {
    "ExecuteTime": {
     "end_time": "2025-07-13T13:46:23.622277Z",
     "start_time": "2025-07-13T13:46:23.615993Z"
    }
   },
   "cell_type": "code",
   "source": [
    "load_dotenv()\n",
    "model = ChatOpenAI()"
   ],
   "id": "a64f5ca58902f78a",
   "outputs": [],
   "execution_count": 75
  },
  {
   "metadata": {
    "ExecuteTime": {
     "end_time": "2025-07-13T13:46:24.147950Z",
     "start_time": "2025-07-13T13:46:24.140046Z"
    }
   },
   "cell_type": "code",
   "source": [
    "@tool\n",
    "def get_weather(query:str):\n",
    "    \"\"\"This returns the weather for the given location.\"\"\"\n",
    "    API_KEY = \"48bf70709fa3413886855137251307\"\n",
    "\n",
    "    prompt1 = f\"Which location is this request for: {query}?\"\n",
    "    location = model.invoke(prompt1).content\n",
    "\n",
    "    response = requests.get(f\"http://api.weatherapi.com/v1/current.json?key={API_KEY}&q={location}\")\n",
    "    data = response.json()\n",
    "\n",
    "    prompt = f\"Summarize the weather details from the following: {data}\"\n",
    "    response = model.invoke(prompt).content\n",
    "\n",
    "    return response"
   ],
   "id": "bc3707745e9dc1c8",
   "outputs": [],
   "execution_count": 76
  },
  {
   "metadata": {
    "ExecuteTime": {
     "end_time": "2025-07-13T13:46:24.692661Z",
     "start_time": "2025-07-13T13:46:24.685313Z"
    }
   },
   "cell_type": "code",
   "source": [
    "tool_node = ToolNode([get_weather])\n",
    "\n",
    "model_with_tools = model.bind_tools([get_weather])"
   ],
   "id": "67b64a0f6acb81da",
   "outputs": [],
   "execution_count": 77
  },
  {
   "metadata": {
    "ExecuteTime": {
     "end_time": "2025-07-13T13:46:25.312333Z",
     "start_time": "2025-07-13T13:46:25.307991Z"
    }
   },
   "cell_type": "code",
   "source": [
    "def should_continue(state: MessagesState):\n",
    "    messages = state[\"messages\"]\n",
    "    last_message = messages[-1]\n",
    "    if last_message.tool_calls:\n",
    "        return \"tools\"\n",
    "    return END\n",
    "\n",
    "def call_model(state: MessagesState):\n",
    "    messages = state[\"messages\"]\n",
    "    response = model_with_tools.invoke(messages)\n",
    "    return {\"messages\": [response]}\n"
   ],
   "id": "c1920a844fe3f3f3",
   "outputs": [],
   "execution_count": 78
  },
  {
   "metadata": {
    "ExecuteTime": {
     "end_time": "2025-07-13T13:46:25.933053Z",
     "start_time": "2025-07-13T13:46:25.929684Z"
    }
   },
   "cell_type": "code",
   "source": "builder = StateGraph(MessagesState)",
   "id": "c3cec93f7f258afe",
   "outputs": [],
   "execution_count": 79
  },
  {
   "metadata": {
    "ExecuteTime": {
     "end_time": "2025-07-13T13:46:26.521161Z",
     "start_time": "2025-07-13T13:46:26.515882Z"
    }
   },
   "cell_type": "code",
   "source": [
    "# Define the two nodes we will cycle between\n",
    "builder.add_node(\"call_model\", call_model)\n",
    "builder.add_node(\"tools\", tool_node)"
   ],
   "id": "fffe430df31c6b23",
   "outputs": [
    {
     "data": {
      "text/plain": [
       "<langgraph.graph.state.StateGraph at 0x10dfc72e0>"
      ]
     },
     "execution_count": 80,
     "metadata": {},
     "output_type": "execute_result"
    }
   ],
   "execution_count": 80
  },
  {
   "metadata": {
    "ExecuteTime": {
     "end_time": "2025-07-13T13:46:27.129953Z",
     "start_time": "2025-07-13T13:46:27.124554Z"
    }
   },
   "cell_type": "code",
   "source": [
    "builder.add_edge(START, \"call_model\")\n",
    "builder.add_conditional_edges(\"call_model\", should_continue, [\"tools\", END])\n",
    "builder.add_edge(\"tools\", \"call_model\")\n"
   ],
   "id": "a49b547f423d19c9",
   "outputs": [
    {
     "data": {
      "text/plain": [
       "<langgraph.graph.state.StateGraph at 0x10dfc72e0>"
      ]
     },
     "execution_count": 81,
     "metadata": {},
     "output_type": "execute_result"
    }
   ],
   "execution_count": 81
  },
  {
   "metadata": {
    "ExecuteTime": {
     "end_time": "2025-07-13T13:46:27.731725Z",
     "start_time": "2025-07-13T13:46:27.726418Z"
    }
   },
   "cell_type": "code",
   "source": "graph = builder.compile()",
   "id": "2ae5a6f313bcc135",
   "outputs": [],
   "execution_count": 82
  },
  {
   "metadata": {
    "ExecuteTime": {
     "end_time": "2025-07-13T13:46:47.908925Z",
     "start_time": "2025-07-13T13:46:47.905413Z"
    }
   },
   "cell_type": "code",
   "source": "query = \"What is the weather today in Delhi?\"",
   "id": "8da73155b4804b55",
   "outputs": [],
   "execution_count": 85
  },
  {
   "metadata": {
    "ExecuteTime": {
     "end_time": "2025-07-13T13:46:55.536392Z",
     "start_time": "2025-07-13T13:46:48.531271Z"
    }
   },
   "cell_type": "code",
   "source": [
    "result = graph.invoke({\"messages\": [{\"role\": \"user\", \"content\": query}]})\n",
    "\n",
    "final_message = result[\"messages\"][-1]\n",
    "print(final_message.content)"
   ],
   "id": "31f92d7e4c34cbd9",
   "outputs": [
    {
     "name": "stdout",
     "output_type": "stream",
     "text": [
      "The current weather in Delhi is 32.1°C with moderate to heavy rain accompanied by thunder. The wind is coming from the east at 7.9 km/h with a gust of 10.3 km/h. The humidity is at 67%, and the visibility is 2.5 km. The weather condition is expected to continue with a cloud cover of 100%. The \"feels like\" temperature is 34.0°C, with a heat index of 39.6°C.\n"
     ]
    }
   ],
   "execution_count": 86
  }
 ],
 "metadata": {
  "kernelspec": {
   "display_name": "Python 3",
   "language": "python",
   "name": "python3"
  },
  "language_info": {
   "codemirror_mode": {
    "name": "ipython",
    "version": 2
   },
   "file_extension": ".py",
   "mimetype": "text/x-python",
   "name": "python",
   "nbconvert_exporter": "python",
   "pygments_lexer": "ipython2",
   "version": "2.7.6"
  }
 },
 "nbformat": 4,
 "nbformat_minor": 5
}
